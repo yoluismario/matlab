{
 "cells": [
  {
   "cell_type": "markdown",
   "metadata": {},
   "source": [
    "# Introduction to XFLR5"
   ]
  },
  {
   "cell_type": "code",
   "execution_count": 1,
   "metadata": {
    "code_folding": [],
    "collapsed": false
   },
   "outputs": [],
   "source": [
    "# imports\n",
    "import os\n",
    "\n",
    "import numpy\n",
    "from matplotlib import pyplot\n",
    "%matplotlib inline\n",
    "from IPython.core.display import HTML"
   ]
  },
  {
   "cell_type": "code",
   "execution_count": 2,
   "metadata": {
    "code_folding": [],
    "collapsed": false
   },
   "outputs": [
    {
     "data": {
      "text/html": [
       "<link href='http://fonts.googleapis.com/css?family=Fenix' rel='stylesheet' type='text/css'>\n",
       "<link href='http://fonts.googleapis.com/css?family=Alegreya+Sans:100,300,400,500,700,800,900,100italic,300italic,400italic,500italic,700italic,800italic,900italic' rel='stylesheet' type='text/css'>\n",
       "<link href='http://fonts.googleapis.com/css?family=Source+Code+Pro:300,400' rel='stylesheet' type='text/css'>\n",
       "<style>\n",
       "\n",
       "@font-face {\n",
       "    font-family: \"Computer Modern\";\n",
       "    src: url('http://mirrors.ctan.org/fonts/cm-unicode/fonts/otf/cmunss.otf');\n",
       "}\n",
       "\n",
       "\n",
       "#notebook_panel { /* main background */\n",
       "    background: rgb(245,245,245);\n",
       "}\n",
       "\n",
       "div.cell { /* set cell width */\n",
       "    width: 750px;\n",
       "}\n",
       "\n",
       "div #notebook { /* centre the content */\n",
       "    background: #fff; /* white background for content */\n",
       "    width: 1000px;\n",
       "    margin: auto;\n",
       "    padding-left: 0em;\n",
       "}\n",
       "\n",
       "#notebook li { /* More space between bullet points */\n",
       "margin-top:0.8em;\n",
       "}\n",
       "\n",
       "/* draw border around running cells */\n",
       "div.cell.border-box-sizing.code_cell.running { \n",
       "    border: 1px solid #111;\n",
       "}\n",
       "\n",
       "/* Put a solid color box around each cell and its output, visually linking them*/\n",
       "div.cell.code_cell {\n",
       "    background-color: rgb(256,256,256); \n",
       "    border-radius: 0px; \n",
       "    padding: 0.5em;\n",
       "    margin-left:1em;\n",
       "    margin-top: 1em;\n",
       "}\n",
       "\n",
       "\n",
       "div.text_cell_render{\n",
       "    font-family: 'Alegreya Sans' sans-serif;\n",
       "    line-height: 140%;\n",
       "    font-size: 125%;\n",
       "    font-weight: 400;\n",
       "    width:600px;\n",
       "    margin-left:auto;\n",
       "    margin-right:auto;\n",
       "}\n",
       "\n",
       "/* Formatting for header cells */\n",
       ".text_cell_render h1 {\n",
       "    font-family: 'Alegreya Sans', sans-serif;\n",
       "    font-style:regular;\n",
       "    font-weight: 200;    \n",
       "    font-size: 50pt;\n",
       "    line-height: 100%;\n",
       "    color:#CD2305;\n",
       "    margin-bottom: 0.5em;\n",
       "    margin-top: 0.5em;\n",
       "    display: block;\n",
       "}\t\n",
       ".text_cell_render h2 {\n",
       "    font-family: 'Fenix', serif;\n",
       "    font-size: 22pt;\n",
       "    line-height: 100%;\n",
       "    margin-bottom: 0.1em;\n",
       "    margin-top: 0.3em;\n",
       "    display: block;\n",
       "}\t\n",
       "\n",
       ".text_cell_render h3 {\n",
       "    font-family: 'Fenix', serif;\n",
       "    margin-top:12px;\n",
       "\tfont-size: 16pt;\n",
       "    margin-bottom: 3px;\n",
       "    font-style: regular;\n",
       "}\n",
       "\n",
       ".text_cell_render h4 {    /*Use this for captions*/\n",
       "    font-family: 'Fenix', serif;\n",
       "    font-size: 2pt;\n",
       "    text-align: center;\n",
       "    margin-top: 0em;\n",
       "    margin-bottom: 2em;\n",
       "    font-style: regular;\n",
       "}\n",
       "\n",
       ".text_cell_render h5 {  /*Use this for small titles*/\n",
       "    font-family: 'Alegreya Sans', sans-serif;\n",
       "    font-weight: 300;\n",
       "    font-size: 16pt;\n",
       "    color: #CD2305;\n",
       "    font-style: italic;\n",
       "    margin-bottom: .5em;\n",
       "    margin-top: 0.5em;\n",
       "    display: block;\n",
       "}\n",
       "\n",
       ".text_cell_render h6 { /*use this for copyright note*/\n",
       "    font-family: 'Source Code Pro', sans-serif;\n",
       "    font-weight: 300;\n",
       "    font-size: 9pt;\n",
       "    line-height: 100%;\n",
       "    color: grey;\n",
       "    margin-bottom: 1px;\n",
       "    margin-top: 1px;\n",
       "}\n",
       "\n",
       "    .CodeMirror{\n",
       "            font-family: \"Source Code Pro\";\n",
       "\t\t\tfont-size: 90%;\n",
       "    }\n",
       "/*    .prompt{\n",
       "        display: None;\n",
       "    }*/\n",
       "\t\n",
       "    \n",
       "    .warning{\n",
       "        color: rgb( 240, 20, 20 )\n",
       "        }  \n",
       "</style>\n",
       "<script>\n",
       "    MathJax.Hub.Config({\n",
       "                        TeX: {\n",
       "                           extensions: [\"AMSmath.js\"], \n",
       "                           equationNumbers: { autoNumber: \"AMS\", useLabelIds: true}\n",
       "                           },\n",
       "                tex2jax: {\n",
       "                    inlineMath: [ ['$','$'], [\"\\\\(\",\"\\\\)\"] ],\n",
       "                    displayMath: [ ['$$','$$'], [\"\\\\[\",\"\\\\]\"] ]\n",
       "                },\n",
       "                displayAlign: 'center', // Change this to 'center' to center equations.\n",
       "                \"HTML-CSS\": {\n",
       "                    styles: {'.MathJax_Display': {\"margin\": 4}}\n",
       "                }\n",
       "        });\n",
       "</script>\n"
      ],
      "text/plain": [
       "<IPython.core.display.HTML at 0x7f00a3026110>"
      ]
     },
     "execution_count": 2,
     "metadata": {},
     "output_type": "execute_result"
    }
   ],
   "source": [
    "# notebook style\n",
    "def css_styling():\n",
    "    \"\"\"Loads the style of the notebook.\"\"\"\n",
    "    css_path = '../../styles/custom.css'\n",
    "    styles = open(css_path, 'r').read()\n",
    "    return HTML(styles)\n",
    "css_styling()"
   ]
  },
  {
   "cell_type": "markdown",
   "metadata": {},
   "source": [
    "---"
   ]
  },
  {
   "cell_type": "markdown",
   "metadata": {},
   "source": [
    "### Recap\n",
    "\n",
    "So far, we have seen that a freestream flow can be perturbed by adding some singularities to the domain: source, sink, doublet and vortex.\n",
    "\n",
    "Adding a [doublet](03_Lesson03_doublet.ipynb) to the freestream gives the flow around a cylinder:\n",
    "![freestream_doublet](./images/freestream_doublet.png)\n",
    "\n",
    "Adding a [vortex](06_Lesson06_vortexLift.ipynb) to the flow, we can get the streamlines around a lifting-cylinder:\n",
    "![freestream_doublet_vortex](./images/freestream_doublet_vortex.png)\n",
    "\n",
    "\n",
    "What happens if I increase the strength of the doublet? I get the streamlines around a cylinder with a bigger radius.\n",
    "And by modifying the vortex strength, I can play with the circulation around the body.\n",
    "\n",
    "Let's think the other way...\n",
    "\n",
    "If the cylinder is an input (the radius and location of the center are fixed), what doublet strength will give me the streamlines around the cylinder?"
   ]
  },
  {
   "cell_type": "markdown",
   "metadata": {},
   "source": [
    "---"
   ]
  },
  {
   "cell_type": "markdown",
   "metadata": {},
   "source": [
    "### Panel methods\n",
    "\n",
    "Panel method represents a class of techniques to compute the flow around any airfoil.\n",
    "The geometry is discretized into segments (panels), each one of them being associated with one or more singularities.\n",
    "\n",
    "![panel_discretization](./images/panel_discretization.png)\n",
    "\n",
    "The location of the singularities is fixed by the shape of the airfoil. We want to obtain the strength of each singularity so that, when added to the freestream, we get the streamlines around the given airfoil.\n",
    "\n",
    "![naca_panel_method](./images/naca_panel_method.png)\n",
    "\n",
    "To compute the strengths, we need to form a system of equations. This is done by applying a boundary condition on each segment. For an inviscid flow, we apply a no-penetration boundary condition (the flow is tangent to the surface of the airfoil)."
   ]
  },
  {
   "cell_type": "markdown",
   "metadata": {},
   "source": [
    "---"
   ]
  },
  {
   "cell_type": "markdown",
   "metadata": {},
   "source": [
    "### XFoil\n",
    "\n",
    "XFoil is a program for the design and analysis of subsonic isolated airfoils, developed by Mark Drela and Harold Youngren (MIT) in 1986. The code, implemented in FORTRAN uses panel methods to predict the polars of airfoils (2D).\n",
    "\n",
    "In XFoil, there are three main modules:\n",
    "* foil design,\n",
    "* direct analysis: XFoil computes the aerodynamic properties of a given airfoil,\n",
    "* inverse design: the shape of the airfoil is optimized to achieve some aerodynamic objectives.\n",
    "\n",
    "XFoil is now embedded in XFLR5, released as an open-source software, hosted on the platform [SourceForge.net](http://sourceforge.net/projects/xflr5). The FORTRAN code was translated in C/C++, a friendly interface replaced the terminal, and three-dimensional algorithms were added to deal with finite wings and full aircrafts."
   ]
  },
  {
   "cell_type": "markdown",
   "metadata": {},
   "source": [
    "---"
   ]
  },
  {
   "cell_type": "markdown",
   "metadata": {},
   "source": [
    "### Airfoil analysis using XFoil (or XFLR5)\n",
    "\n",
    "Given the shape of the airfoil and the freestream flow conditions, XFoil performs inviscid and viscous analysis for either compressible or incompressible flows that are time-independent.\n",
    "\n",
    "Basic panel methods lead to inviscid solutions. Thus, the viscous effects of the boundary layer and the wake must be modeled.\n",
    "\n",
    "* The inviscid flow is solved with a panel method using a linear-vorticity stream-function formulation. \n",
    "\n",
    "* The viscous effects from the boundary layer and the wake are solved by adding a source to each panel (airfoil and wake). The strength of each source is related to the boundary layer quantities.\n",
    "\n",
    "![drela_panel_method](./images/drela_panel_method.png \"Discretization of the airfoil and its wake (Drela, 1986)\")\n",
    "<center> Discretization of the airfoil and its wake into panels (Drela, 1986) </center>\n",
    "\n",
    "By superposing all the singularities (vortices with strength $\\gamma$, sources with strength $\\sigma$) to the freestream flow $(u_\\infty, v_\\infty)$, we get the value of the stream-function $\\psi$ at a given field point $(x, y)$:\n",
    "\n",
    "$$ \\psi (x, y) = \n",
    "u_\\infty y - v_\\infty x \n",
    "+ \\int_{\\text{airfoil}} \\frac{\\gamma(s)}{2\\pi} \\ln r(s, x, y) ds \n",
    "+ \\int_{\\text{airfoil+wake}} \\frac{\\sigma(s)}{2\\pi} \\theta (s, x, y)  ds$$"
   ]
  },
  {
   "cell_type": "markdown",
   "metadata": {},
   "source": [
    "---"
   ]
  },
  {
   "cell_type": "markdown",
   "metadata": {},
   "source": [
    "### Application: NACA0012\n",
    "\n",
    "We need to provide to XFoil, the shape of the airfoil. We choose here, the famous symmetrical NACA profile 0012.\n",
    "\n",
    "Airfoil file format:\n",
    "\n",
    "* The first line contains the name of the profile (e.g. NACA0012).\n",
    "* x- and y- coordinates are stored in columns, starting from the trailing edge, folllowing the shape , and ending at the trailing edge again.\n",
    "* Lines starting with `#` are ignored."
   ]
  },
  {
   "cell_type": "code",
   "execution_count": 3,
   "metadata": {
    "code_folding": [],
    "collapsed": false
   },
   "outputs": [],
   "source": [
    "def generate_coordinates(chord=1.0, thickness=12, n=100, sharp=False):\n",
    "    \"\"\"Generates and returns the x- and y- coordinates \n",
    "    of the symmetrical NACA airfoil.\n",
    "    \n",
    "    Arguments\n",
    "    ---------\n",
    "    chord -- the chord length (default 1.0)\n",
    "    thickness -- maximum thickness \n",
    "                 as a fraction of the chord (default 12)\n",
    "    n -- number of segment to discretize the geometry (default 100)\n",
    "    sharp -- sharp trailing-edge (default False)\n",
    "    \"\"\"\n",
    "    c, t = chord, thickness/100.0\n",
    "    x = numpy.linspace(0.0, c, n/2+1)\n",
    "    y = 5.0*t*c*(+ 0.2969*numpy.sqrt(x/c)\n",
    "                 - 0.1260*(x/c)\n",
    "                 - 0.3516*(x/c)**2\n",
    "                 + 0.2843*(x/c)**3\n",
    "                 - (0.1036 if sharp else 0.1015)*(x/c)**4)\n",
    "    return ( numpy.append(x[::-1],  x[(1 if sharp else 0)::]),\n",
    "             numpy.append(y[::-1], -y[(1 if sharp else 0)::]) )"
   ]
  },
  {
   "cell_type": "code",
   "execution_count": 4,
   "metadata": {
    "code_folding": [],
    "collapsed": false
   },
   "outputs": [],
   "source": [
    "def write_coordinates(x, y, name='naca'):\n",
    "    \"\"\"Writes the x- and y- coordinates in a file.\n",
    "    \n",
    "    x, y -- coordinates to write\n",
    "    name -- name of the output file (default naca.dat)\n",
    "    \"\"\"\n",
    "    file_path = './airfoils/{}.dat'.format(name)\n",
    "    with open(file_path, 'w') as outfile:\n",
    "        outfile.write('{}\\n'.format(name))\n",
    "        numpy.savetxt(outfile, numpy.c_[x, y], \n",
    "                      fmt='%.6f', delimiter='\\t')"
   ]
  },
  {
   "cell_type": "code",
   "execution_count": 5,
   "metadata": {
    "code_folding": [],
    "collapsed": false
   },
   "outputs": [],
   "source": [
    "def plot_airfoil(x, y, name='naca'):\n",
    "    \"\"\"Plots the NACA coordinates.\n",
    "    \n",
    "    Arguments\n",
    "    ---------\n",
    "    x, y -- coordinates of the geometry\n",
    "    name -- name of the geometry (default naca)\n",
    "    \"\"\"\n",
    "    pyplot.figure(figsize=(10, 6))\n",
    "    pyplot.grid(True)\n",
    "    pyplot.xlabel(r'$x$', fontsize=18)\n",
    "    pyplot.ylabel(r'$y$', fontsize=18)\n",
    "    pyplot.plot(x, y, label=name, color='#D95F02', \n",
    "                linestyle='-', linewidth=1, marker='o', markersize=6)\n",
    "    pyplot.legend(loc='best', prop={'size': 18})\n",
    "    pyplot.axis('equal')\n",
    "    pyplot.savefig('./airfoils/{}.png'.format(name))"
   ]
  },
  {
   "cell_type": "code",
   "execution_count": 6,
   "metadata": {
    "collapsed": false
   },
   "outputs": [
    {
     "data": {
      "image/png": "[encoded data removed]",
      "text/plain": [
       "<matplotlib.figure.Figure at 0x7f00a3026690>"
      ]
     },
     "metadata": {},
     "output_type": "display_data"
    }
   ],
   "source": [
    "x, y = generate_coordinates(chord=1.0, thickness=12, n=100, sharp=True)\n",
    "\n",
    "write_coordinates(x, y, name='NACA0012')\n",
    "\n",
    "plot_airfoil(x, y, name='NACA0012')"
   ]
  },
  {
   "cell_type": "markdown",
   "metadata": {},
   "source": [
    "---"
   ]
  },
  {
   "cell_type": "markdown",
   "metadata": {},
   "source": [
    "### Comparison to wind tunnel data\n",
    "\n",
    "Gregory and O'Reilly (1970) perfomed some experimental work on such a profile immersed in a wind tunnel. \n",
    "\n",
    "The Reynolds number of the flow was about $Re=2.88 \\cdot 10^{6}$ and the NCA0012 profile was at small angles of attack ($\\alpha= 0^o$, $10^o$ and $15^o$). \n",
    "\n",
    "Let's see how XFoil results compare with those data."
   ]
  },
  {
   "cell_type": "code",
   "execution_count": 7,
   "metadata": {
    "collapsed": false
   },
   "outputs": [],
   "source": [
    "# angle of attack\n",
    "alpha = 'AoA15' # choose either 'AoA0', 'AoA10' or 'AoA15'"
   ]
  },
  {
   "cell_type": "code",
   "execution_count": 8,
   "metadata": {
    "code_folding": [],
    "collapsed": false
   },
   "outputs": [
    {
     "data": {
      "image/png": "[encoded data removed]",
      "text/plain": [
       "<matplotlib.figure.Figure at 0x7f00a2d59050>"
      ]
     },
     "metadata": {},
     "output_type": "display_data"
    }
   ],
   "source": [
    "# surface pressure coefficient comparison: XFLR5 and Gregory and O'Reilly (1970)\n",
    "\n",
    "# load XFLR5 pressure coeffcient data\n",
    "xflr5_data = './xflr5_results/naca0012_cp_xflr5.dat'\n",
    "columns = {'AoA15': (0, 1),\n",
    "           'AoA10': (2, 3),\n",
    "           'AoA5': (4, 5),\n",
    "           'AoA0': (6, 7),}\n",
    "with open(xflr5_data, 'r') as infile:\n",
    "    x, cp = numpy.loadtxt(infile, dtype=float, skiprows=1, \n",
    "                          usecols=columns[alpha], unpack=True)\n",
    "\n",
    "# load experimental pressure coefficient data\n",
    "exp_data = ('./experimental_data/'\n",
    "            'gregory_oreilly_1970_naca0012_{}.dat'.format(alpha))\n",
    "with open(exp_data, 'r') as infile:\n",
    "    x_exp, cp_exp = numpy.loadtxt(infile, dtype=float, unpack=True)\n",
    "\n",
    "# display the surface pressure coefficient\n",
    "pyplot.figure(figsize=(10, 6))\n",
    "pyplot.grid(True)\n",
    "pyplot.xlabel(r'$x/c$', fontsize=18)\n",
    "pyplot.ylabel(r'$C_p$', fontsize=18)\n",
    "pyplot.plot(x, cp, label='XFLR5', \n",
    "            color='#D95F02', linewidth=2)\n",
    "pyplot.plot(x_exp, cp_exp, label=\"Gregory and O'Reilly (1970)\", \n",
    "            color='#1F78B4', linewidth=0, marker='o', markersize=6)\n",
    "pyplot.xlim(-0.2, 1.2)\n",
    "pyplot.legend(loc='best', prop={'size': 16});"
   ]
  },
  {
   "cell_type": "markdown",
   "metadata": {},
   "source": [
    "---"
   ]
  },
  {
   "cell_type": "markdown",
   "metadata": {},
   "source": [
    "### Wing analysis using XFLR5\n",
    "\n",
    "XFLR5 has also some routines to compute the aerodynamics of 3D geometries (finite wings or even simplified aircrafts).\n",
    "\n",
    "Currently, there are three main methods implemented in XFLR5:\n",
    "\n",
    "* Prandtl's Lifting-Line Theory (LLT)\n",
    "* Vortex Lattice Method (VLM)\n",
    "* 3D Panel Method"
   ]
  },
  {
   "cell_type": "markdown",
   "metadata": {},
   "source": [
    "---"
   ]
  },
  {
   "cell_type": "markdown",
   "metadata": {},
   "source": [
    "### Lifting-Line Theory\n",
    "\n",
    "The theory, developed by Lanchester (1907) and Prandtl (1919), independently, consists of replacing the finite wing by a lifting-line.\n",
    "\n",
    "*Observation*: genarally speaking, for a positive angle of attack, the pressure above the wing is smaller than the pressure under it, forcing the flow the move from lower side to the upper side of the wing at the tips, generating vortices. Those vortices induce a downwash velocity, which reduce the effective angle of attack.\n",
    "\n",
    "This reduction in the effective angle of attack results in smaller lift and higher drag. If we can model the downwash distribution along the wing, we can calculate the aerodynamic properties of a finite wing.\n",
    "\n",
    "Let's replace the lifting wing (of span $b$) by a horseshoe vortex. \n",
    "\n",
    "![anderson_horseshoe_vortex](./images/anderson_horseshoe_vortex.png)\n",
    "<center> Replacement of the finite wing with a horseshoe vortex (Anderson, 2001). </center>\n",
    "\n",
    "The downwash velocity at any point $y$ along the bound vortex induced by the trailing semi-infinite vortices (of strength $\\Gamma$) is given by:\n",
    "\n",
    "$$ w(y) \n",
    "= -\\frac{\\Gamma}{4\\pi (b/2+y)} -\\frac{\\Gamma}{4\\pi (b/2-y)}\n",
    "= -\\frac{\\Gamma}{4\\pi} \\frac{b}{(b/2)^2 - y^2} $$\n",
    "\n",
    "*Problem*: a single horseshoe vortex produces infinite downwash velocity at the tips of the wing (unphysical behavior).\n",
    "\n",
    "Prandtl proposed to superpose multiple horseshoe vortices of different strengths and different lengths on the lifting line to compute the downwash velocity.\n",
    "\n",
    "![lifting_line_theory](./images/anderson_horseshoe_vortices.png)\n",
    "<center> Superposition of a finite number of horseshoe vortices along the lifting line (Anderson, 2001). </center>\n",
    "\n",
    "The downwash velocity at location $y_0$ induced by all horseshoe vortices placed on the lifting-line is:\n",
    "\n",
    "$$ w(y_0) = -\\frac{1}{4\\pi} \\int_\\text{tip}^\\text{tip} \\frac{d\\Gamma}{dy} \\frac{dy}{y_0-y} $$\n",
    "\n",
    "Thus, we need to know the distribution $\\frac{d\\Gamma}{dy}$ to calculate the downwash velocity.\n",
    "\n",
    "Kutta-Joukowsky theorem relates the lift to the circulation around the wing section:\n",
    "$$ L(y) = \\rho V_\\infty \\Gamma(y) $$\n",
    "\n",
    "The total lift is:\n",
    "\n",
    "$$ L = \\rho V_\\infty \\int_{\\text{tip}}^{\\text{tip}} \\Gamma(y) dy $$\n",
    "\n",
    "The lift coefficient becomes:\n",
    "\n",
    "$$ C_l = \\frac{L}{\\frac{1}{2} \\rho c V_\\infty^2} = \\frac{2\\Gamma}{c V_\\infty} $$\n",
    "\n",
    "We made the assumption that the circulation of the wing can be represented as a Fourier sine series:\n",
    "\n",
    "$$ \\Gamma(y) = 4 s V_\\infty \\sum_n A_n \\sin n\\theta $$\n",
    "\n",
    "and that the lift coefficient varies as a linear function of the effective angle of attack:\n",
    "\n",
    "$$ C_l = C_{la} \\left( \\alpha - \\alpha_i \\right) $$\n",
    "\n",
    "where $\\alpha_i$ represents the change in the angle of attack due to the downwash velocity.\n",
    "\n",
    "The circulation at a specific station along the span is given by:\n",
    "\n",
    "$$ \\Gamma(y) = \\frac{1}{2} c V_\\infty C_{la} \\left( \\alpha - \\alpha_i \\right) $$\n",
    "\n",
    "For small angles of attack, the reduction in the angle of attack can be approximated by:\n",
    "\n",
    "$$ \\alpha_i = \\frac{w(y)}{V_\\infty} $$\n",
    "\n",
    "For each horseshoe vortex, we get an equation where the unknowns are the $A_n$ of the Fourier series. Placing $n$ horseshoe vortices along the lifting-line, we can form a system and solve it for the coefficient $A_n$ and obtain the downwash velocity distribution.\n",
    "\n",
    "The Lifting-Line Theory does *not* take into account:\n",
    "* the compressibility of the flow\n",
    "* the viscosity of the fluid\n",
    "* swept and low aspect-ratio wings\n",
    "* unsteady flow"
   ]
  },
  {
   "cell_type": "markdown",
   "metadata": {},
   "source": [
    "---"
   ]
  },
  {
   "cell_type": "markdown",
   "metadata": {},
   "source": [
    "### Vortex Lattice Method (VLM)\n",
    "\n",
    "The method was developed in the 1930's and became very popular in the 1960's with the increase in computational power.\n",
    "\n",
    "The finite wing is represented by its mean camber surface that is discretized into quadrilateral panels. \n",
    "\n",
    "A horseshoe vortex of unknown strength is placed on each panel, with the bound vortex located at a 1/4 chord of the panel and two trailing vortex line shed from each tip of the panel.\n",
    "\n",
    "![xflr5_userguide_vlm](./images/xflr5_userguide_vlm.png)\n",
    "<center> Horseshoe vortices placement in the Vortex Lattice Method (from XFLR5 user-guide). </center>\n",
    "\n",
    "We assume a potential flow, i.e. the velocity derived from a potential that satisfies the Laplace's equation:\n",
    "\n",
    "$$ \\mathbf{V} = \\mathbf{V_\\infty} + \\nabla \\varphi $$\n",
    "\n",
    "where $\\varphi$ is the potential velocity induced by the superposition of all horseshoe vortices of unknown strength.\n",
    "\n",
    "We form a equation for each panel by applying a no-penetration boundary condition at 3/4 of the panel chord (collocation point):\n",
    "\n",
    "$$ 0 = \\mathbf{V}_i \\cdot \\mathbf{n}_i = \\left( \\mathbf{V}_\\infty + \\sum_{j=1}^N a_{ij} \\Gamma_j  \\right)\\cdot \\mathbf{n}_i $$\n",
    "\n",
    "We can form and solve a system for the vortex strengths. Then, the lift and induced drag can be calculated.\n",
    "\n",
    "The basic Vortex Lattice Method does not account for:\n",
    "* the compressibility of the flow\n",
    "* the viscosity of the fluid\n",
    "* irrotational flow\n",
    "* thick wings"
   ]
  },
  {
   "cell_type": "markdown",
   "metadata": {},
   "source": [
    "---"
   ]
  },
  {
   "cell_type": "markdown",
   "metadata": {},
   "source": [
    "### 3D Panel Method\n",
    "\n",
    "The finite wing is discretized into panels (both upper and lower sides). \n",
    "\n",
    "Each panel is associated with:\n",
    "\n",
    "* uniform doublet\n",
    "* uniform source\n",
    "\n",
    "The boundary condition is applied at collocation point of each panel defined as the center of gravity of the panel.\n",
    "\n",
    "The perturbation of the flow due to the presence of the wing is calculated by the sum of doublets and sources distributed over the wing surface.\n",
    "\n",
    "If you are interested in getting the pressure coefficient on the surface of the wing and not only on the mean camber, the 3D panel method should be used over the VLM and the LLT."
   ]
  },
  {
   "cell_type": "markdown",
   "metadata": {},
   "source": [
    "---"
   ]
  },
  {
   "cell_type": "markdown",
   "metadata": {},
   "source": [
    "### Viscous correction for a finite wing\n",
    "\n",
    "The three classic methods presented above do not account for the viscosity of the fluid (i.e. ignore the viscous drag). At low Reynolds number, viscous forces cannot be neglected, and the viscous drag coefficient becomes prominent. At high Reynolds number intertia forces take the lead and the viscous drag remains small.\n",
    "\n",
    "Since there is not adequate theory to take into account viscosity in 3D, the viscous drag coefficient is extrapolated from 2D polars. \n",
    "\n",
    "To perform a viscous 3D analysis of a finite wing, one needs to generate polars for the various arifoild used."
   ]
  },
  {
   "cell_type": "markdown",
   "metadata": {},
   "source": [
    "---"
   ]
  },
  {
   "cell_type": "markdown",
   "metadata": {},
   "source": [
    "### Application to a Pterosaur wing\n",
    "\n",
    "The Pterosaur is an extinct Mesozoic flying reptile, noticeable for it super elongated finger and soft membrane wing that stretched from the distal end of the wing to the ankle (or somewhere near it).\n",
    "\n",
    "![pterosaur_wikipedia](./images/pterosaur_wikipedia.png)\n",
    "<center> Reconstructed wing planform of Quelzalcoatlus northropi (A) compared to the wandering albatross Diomedea exulans (B) and the Andean condor Vultur gryphus (C) (not to scale). From Witton and Naish (2008). </center>"
   ]
  },
  {
   "cell_type": "markdown",
   "metadata": {},
   "source": [
    "The aerodynamic of the pterosaur is not yet fully understood and is a current research topic: \n",
    "\n",
    "* How such big animals were able to take off? \n",
    "* What is the shape of the thin membraneous wing? \n",
    "* Where is attached the wing on the leg?\n",
    "\n",
    "![pterosaur_witton](./images/pterosaur_witton.jpg)\n",
    "<center> Comparative sizes of Quetzalcoathus northropi, the author Mark Witton and a giraffe. Scale bar represents $2m$. From Witton  (2008).</center>\n",
    "\n",
    "Among the fossils recorded, very few have some trace of soft tissue, that could give a clue about the shape of the wing. In fact, pterosau specimens are known from skeletal material.\n",
    "\n",
    "Scientists and paleontologist are trying to reconstruct the pterosaur wing based on some assumptions:\n",
    "* For a steady gliding flight, the center of mass should coincide with center of pressure.\n",
    "* The margin of the wing should be concave since the pterosaur did not have fingers to extend across the menbrane and support the wing (bats do). If the shape was convex, the margin would be freely flapping, destroying the lift to drag ratio.\n",
    "\n",
    "![bat_skeleton](./images/bat_skeleton.jpg)\n",
    "<center> Bat skeleton. Image by Ben Waggoner ([source](http://www.ucmp.berkeley.edu/mammal/eutheria/chiromm.html)) </center>"
   ]
  },
  {
   "cell_type": "markdown",
   "metadata": {},
   "source": [
    "---"
   ]
  },
  {
   "cell_type": "markdown",
   "metadata": {},
   "source": [
    "We model the cross-section of the pterosaur wing with a S1123 airfoil based on the work done by Palmer and Dyke (2011)."
   ]
  },
  {
   "cell_type": "code",
   "execution_count": 9,
   "metadata": {
    "code_folding": [],
    "collapsed": false
   },
   "outputs": [],
   "source": [
    "def read_coordinates(file_path):\n",
    "    \"\"\"Reads coordinates from file and stores name and coordinates of the airfoils.\n",
    "    \n",
    "    Arguments\n",
    "    ---------\n",
    "    file_path -- path of the file containing the coordinates\n",
    "    \"\"\"\n",
    "    with open(file_path, 'r') as infile:\n",
    "        name = infile.readline().strip()\n",
    "        x, y = numpy.loadtxt(infile, dtype=float, unpack=True)\n",
    "    return name, x, y"
   ]
  },
  {
   "cell_type": "code",
   "execution_count": 10,
   "metadata": {
    "code_folding": [],
    "collapsed": false
   },
   "outputs": [
    {
     "data": {
      "image/png": "[encoded data removed]",
      "text/plain": [
       "<matplotlib.figure.Figure at 0x7f00a2e1f950>"
      ]
     },
     "metadata": {},
     "output_type": "display_data"
    }
   ],
   "source": [
    "# read and plot S1123 airfoil\n",
    "name, x, y = read_coordinates('./airfoils/S1223.dat')\n",
    "plot_airfoil(x, y, name=name)"
   ]
  },
  {
   "cell_type": "markdown",
   "metadata": {},
   "source": [
    "### References\n",
    "\n",
    "* Anderson, J.D. \"Fundamentals of Aerodynamics.\" McGraw-Hill, Boston, Massachussets, 2001.\n",
    "* Drela, M. \"XFOIL: An analysis and design system for low Reynolds number airfoils.\" Low Reynolds number aerodynamics. Springer Berlin Heidelberg, 1989. 1-12.\n",
    "* Drela, M, and Michael B.G. \"Viscous-inviscid analysis of transonic and low Reynolds number airfoils.\" AIAA journal 25.10 (1987): 1347-1355.\n",
    "* Gregory, N. and O'Reilly, C.L. \"Low-Speed Aerodynamics Characteristics of NACA 0012 Aerofoil Section, including the Effects of Upper-Surface Roughness Simulating Hoar Frost.\" Reports and Memoranda, No. 3726 (January 1970).\n",
    "* Palmer, Colin, and Gareth Dyke. \"Constraints on the wing morphology of pterosaurs.\" Proceedings of the Royal Society B: Biological Sciences, 279: 1218-1224, 2011.\n",
    "* Witton, M.P and Naish, D. \"A Reappraisal of Azhdarchid Pterosaur FUnctional Morphology and Paleoecology.\" PLoS ONE 3(5):e2271, 2008.\n",
    "* Witton, M.P. \"A new approach to determining pterosaur body mass and its implications for pterosaur flight.\" Zitteliana (2008): 143-158."
   ]
  }
 ],
 "metadata": {
  "kernelspec": {
   "display_name": "Python 3",
   "language": "python",
   "name": "python3"
  },
  "language_info": {
   "codemirror_mode": {
    "name": "ipython",
    "version": 3
   },
   "file_extension": ".py",
   "mimetype": "text/x-python",
   "name": "python",
   "nbconvert_exporter": "python",
   "pygments_lexer": "ipython3",
   "version": "3.5.2"
  }
 },
 "nbformat": 4,
 "nbformat_minor": 0
}
